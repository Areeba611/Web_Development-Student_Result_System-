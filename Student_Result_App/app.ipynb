{
 "cells": [
  {
   "cell_type": "code",
   "execution_count": null,
   "id": "1abd396b-1b3c-49e3-9ec4-d398fec0ec39",
   "metadata": {},
   "outputs": [
    {
     "name": "stdout",
     "output_type": "stream",
     "text": [
      " * Serving Flask app '__main__'\n",
      " * Debug mode: on\n"
     ]
    },
    {
     "name": "stderr",
     "output_type": "stream",
     "text": [
      "WARNING: This is a development server. Do not use it in a production deployment. Use a production WSGI server instead.\n",
      " * Running on http://127.0.0.1:5000\n",
      "Press CTRL+C to quit\n"
     ]
    }
   ],
   "source": [
    "from flask import Flask, render_template, request\n",
    "import nest_asyncio\n",
    "\n",
    "nest_asyncio.apply()\n",
    "\n",
    "app = Flask(__name__)\n",
    "\n",
    "@app.route('/')\n",
    "def form():\n",
    "    return render_template('form.html')\n",
    "\n",
    "@app.route('/result', methods=['POST'])\n",
    "def result():\n",
    "    name = request.form['name']\n",
    "    marks1 = int(request.form['marks1'])\n",
    "    marks2 = int(request.form['marks2'])\n",
    "    marks3 = int(request.form['marks3'])\n",
    "\n",
    "    total = marks1 + marks2 + marks3\n",
    "    percentage = round((total / 300) * 100, 2)\n",
    "\n",
    "    if percentage >= 80:\n",
    "        grade = 'A+'\n",
    "    elif percentage >= 70:\n",
    "        grade = 'A'\n",
    "    elif percentage >= 60:\n",
    "        grade = 'B'\n",
    "    elif percentage >= 50:\n",
    "        grade = 'C'\n",
    "    else:\n",
    "        grade = 'F'\n",
    "\n",
    "    return render_template('result.html', name=name, total=total, percentage=percentage, grade=grade)\n",
    "\n",
    "app.run(port=5000, debug=True, use_reloader=False)\n"
   ]
  },
  {
   "cell_type": "code",
   "execution_count": null,
   "id": "2ba07458-2036-47d1-ba80-bbc74f9d4e90",
   "metadata": {},
   "outputs": [],
   "source": []
  }
 ],
 "metadata": {
  "kernelspec": {
   "display_name": "Python 3 (ipykernel)",
   "language": "python",
   "name": "python3"
  },
  "language_info": {
   "codemirror_mode": {
    "name": "ipython",
    "version": 3
   },
   "file_extension": ".py",
   "mimetype": "text/x-python",
   "name": "python",
   "nbconvert_exporter": "python",
   "pygments_lexer": "ipython3",
   "version": "3.13.5"
  }
 },
 "nbformat": 4,
 "nbformat_minor": 5
}
