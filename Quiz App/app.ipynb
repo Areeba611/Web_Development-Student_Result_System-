{
 "cells": [
  {
   "cell_type": "code",
   "execution_count": null,
   "id": "ae443c2d-0e23-4c97-a852-5b02ef7ed5f0",
   "metadata": {},
   "outputs": [
    {
     "name": "stdout",
     "output_type": "stream",
     "text": [
      " * Serving Flask app '__main__'\n",
      " * Debug mode: on\n"
     ]
    },
    {
     "name": "stderr",
     "output_type": "stream",
     "text": [
      "WARNING: This is a development server. Do not use it in a production deployment. Use a production WSGI server instead.\n",
      " * Running on http://127.0.0.1:5000\n",
      "Press CTRL+C to quit\n",
      "127.0.0.1 - - [07/Aug/2025 23:11:45] \"GET / HTTP/1.1\" 200 -\n",
      "127.0.0.1 - - [07/Aug/2025 23:11:45] \"GET /favicon.ico HTTP/1.1\" 404 -\n",
      "127.0.0.1 - - [07/Aug/2025 23:12:23] \"POST /result HTTP/1.1\" 200 -\n",
      "127.0.0.1 - - [07/Aug/2025 23:12:49] \"POST /result HTTP/1.1\" 200 -\n",
      "127.0.0.1 - - [07/Aug/2025 23:12:55] \"GET / HTTP/1.1\" 200 -\n",
      "127.0.0.1 - - [07/Aug/2025 23:13:24] \"POST /result HTTP/1.1\" 200 -\n",
      "127.0.0.1 - - [07/Aug/2025 23:13:29] \"GET / HTTP/1.1\" 200 -\n"
     ]
    }
   ],
   "source": [
    "from flask import Flask, render_template, request\n",
    "import nest_asyncio\n",
    "nest_asyncio.apply()\n",
    "\n",
    "app = Flask(__name__)\n",
    "\n",
    "# Your quiz questions and correct answers\n",
    "questions = {\n",
    "    \"What is the capital of Pakistan?\": \"Islamabad\",\n",
    "    \"30 + 20?\": \"50\",\n",
    "    \"Who is the founder of Pakistan?\": \"Muhammad Ali Jinnah\"\n",
    "}\n",
    "\n",
    "# Route for quiz form\n",
    "@app.route('/')\n",
    "def quiz():\n",
    "    return render_template('quiz_form.html', questions=questions)\n",
    "\n",
    "# Route for quiz result\n",
    "@app.route('/result', methods=['POST'])\n",
    "def result():\n",
    "    score = 0\n",
    "    total = len(questions)\n",
    "    for question in questions:\n",
    "        user_answer = request.form.get(question)\n",
    "        if user_answer and user_answer.strip().lower() == questions[question].lower():\n",
    "            score += 1\n",
    "    return render_template('quiz_result.html', score=score, total=total)\n",
    "\n",
    "# Run Flask App\n",
    "if __name__ == '__main__':\n",
    "    app.run(port=5000, debug=True, use_reloader=False)\n"
   ]
  },
  {
   "cell_type": "code",
   "execution_count": null,
   "id": "1e578aa5-d68d-4fdd-8ebf-e22df57bba2b",
   "metadata": {},
   "outputs": [],
   "source": []
  },
  {
   "cell_type": "code",
   "execution_count": null,
   "id": "eb1a25e7-c10b-4ea2-9651-14ad827d17c8",
   "metadata": {},
   "outputs": [],
   "source": []
  }
 ],
 "metadata": {
  "kernelspec": {
   "display_name": "Python 3 (ipykernel)",
   "language": "python",
   "name": "python3"
  },
  "language_info": {
   "codemirror_mode": {
    "name": "ipython",
    "version": 3
   },
   "file_extension": ".py",
   "mimetype": "text/x-python",
   "name": "python",
   "nbconvert_exporter": "python",
   "pygments_lexer": "ipython3",
   "version": "3.13.5"
  }
 },
 "nbformat": 4,
 "nbformat_minor": 5
}
